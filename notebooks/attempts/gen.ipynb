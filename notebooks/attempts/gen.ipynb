{
 "cells": [
  {
   "cell_type": "code",
   "execution_count": 198,
   "id": "f59c05a7",
   "metadata": {},
   "outputs": [],
   "source": [
    "import pandas as pd \n",
    "import numpy as np \n",
    "from scipy.stats import norm, expon\n",
    "import datetime\n",
    "import holidays \n",
    "import matplotlib.pyplot as plt\n",
    "import os\n",
    "from pathlib import Path\n",
    "import random"
   ]
  },
  {
   "attachments": {},
   "cell_type": "markdown",
   "id": "ba0e1759",
   "metadata": {},
   "source": [
    "# Faza 1 - przygotowanie"
   ]
  },
  {
   "attachments": {},
   "cell_type": "markdown",
   "id": "cd49785a",
   "metadata": {},
   "source": [
    "## Wczytanie csv"
   ]
  },
  {
   "cell_type": "code",
   "execution_count": 143,
   "id": "596bd92f",
   "metadata": {},
   "outputs": [],
   "source": [
    "def file_path(file_name: str):\n",
    "    dir_path = [ i for i in Path.cwd().parents if i.name == 'geeks-and-dragons-db'][0]\n",
    "    path = os.path.join(dir_path, 'config', 'prompts', file_name)\n",
    "    if os.path.exists(path):\n",
    "        return path\n",
    "    else:\n",
    "        raise FileNotFoundError('No such file')"
   ]
  },
  {
   "cell_type": "code",
   "execution_count": 323,
   "id": "e6ad6c52",
   "metadata": {},
   "outputs": [],
   "source": [
    "prompt_games = pd.read_csv(file_path('gry.csv'))\n",
    "prompt_first_names_males = pd.read_csv(file_path('imiona_m.csv'))\n",
    "prompt_last_names_males = pd.read_csv(file_path('nazwiska_m.csv'))\n",
    "prompt_first_names_females = pd.read_csv(file_path('imiona_k.csv'))\n",
    "prompt_last_names_females = pd.read_csv(file_path('nazwiska_k.csv'))\n",
    "prompt_cities = pd.read_csv(file_path('miasta.csv'))"
   ]
  },
  {
   "attachments": {},
   "cell_type": "markdown",
   "id": "3a5283b0",
   "metadata": {},
   "source": [
    "## Tabela prompt_dates"
   ]
  },
  {
   "cell_type": "code",
   "execution_count": 172,
   "id": "4cd53d67",
   "metadata": {},
   "outputs": [],
   "source": [
    "shop_open_date = datetime.datetime(2021,6,1) #Dzień Dziecka bo tak \n",
    "today = datetime.datetime(2023,6,25)"
   ]
  },
  {
   "cell_type": "code",
   "execution_count": 174,
   "id": "2e6cb59b",
   "metadata": {},
   "outputs": [],
   "source": [
    "weekday_dict = {'0':'Poniedziałek', '1':'Wtorek', '2':'Środa', '3':'Czwartek', '4':'Piątek', '5':'Sobota'}\n",
    "\n",
    "def gen_dates(start_date, end_date):\n",
    "    dates = []\n",
    "    holidays_pl = holidays.Poland()\n",
    "    current_date = start_date\n",
    "    while current_date <= end_date:\n",
    "        if current_date.weekday() != 6 and current_date not in holidays_pl:\n",
    "            dates.append((current_date.date().strftime(\"%d-%m-%Y\"), weekday_dict[str(current_date.weekday())]))\n",
    "        current_date += datetime.timedelta(days=1)\n",
    "    return dates"
   ]
  },
  {
   "cell_type": "code",
   "execution_count": 175,
   "id": "55946ce3",
   "metadata": {},
   "outputs": [],
   "source": [
    "generated_dates = gen_dates(shop_open_date, today)"
   ]
  },
  {
   "cell_type": "code",
   "execution_count": 176,
   "id": "0ff252e0",
   "metadata": {},
   "outputs": [],
   "source": [
    "prompt_dates = pd.DataFrame(generated_dates, columns=['Data', 'Dzień tygodnia'])"
   ]
  },
  {
   "attachments": {},
   "cell_type": "markdown",
   "id": "9712ed84",
   "metadata": {},
   "source": [
    "## Ruch - dni"
   ]
  },
  {
   "cell_type": "code",
   "execution_count": 178,
   "id": "1876bab5",
   "metadata": {},
   "outputs": [],
   "source": [
    "A = 6\n",
    "B = 0.01 \n",
    "dodatek_dzienny = {'Poniedziałek':'2', 'Wtorek':'1', 'Środa':'0', 'Czwartek':'4', 'Piątek':'5', 'Sobota':'5'}\n",
    "\n",
    "volume_base = []\n",
    "for i in range(len(prompt_dates['Dzień tygodnia'])):\n",
    "    dd = int(dodatek_dzienny[prompt_dates['Dzień tygodnia'][i]])\n",
    "    volume_base.append(A+B*i+dd)"
   ]
  },
  {
   "cell_type": "code",
   "execution_count": 179,
   "id": "b36ef620",
   "metadata": {},
   "outputs": [],
   "source": [
    "prompt_dates['volume_base'] = volume_base"
   ]
  },
  {
   "cell_type": "code",
   "execution_count": 180,
   "id": "930357eb",
   "metadata": {},
   "outputs": [],
   "source": [
    "volume_sales = []\n",
    "for v_base in prompt_dates['volume_base']:\n",
    "    szum = round(norm.rvs(0,1.5))\n",
    "    volume_sales.append(max(0,v_base+szum))\n",
    "\n",
    "prompt_dates['volume_sales'] = volume_sales"
   ]
  },
  {
   "cell_type": "code",
   "execution_count": 181,
   "id": "9b93de02",
   "metadata": {},
   "outputs": [],
   "source": [
    "volume_rental = []\n",
    "for v_base in prompt_dates['volume_base']:\n",
    "    szum = round(norm.rvs(0,1.5))\n",
    "    volume_rental.append(max(0,0.4*v_base+szum))\n",
    "\n",
    "prompt_dates['volume_rental'] = volume_rental"
   ]
  },
  {
   "cell_type": "code",
   "execution_count": 182,
   "id": "89c11635",
   "metadata": {},
   "outputs": [
    {
     "data": {
      "text/html": [
       "<div>\n",
       "<style scoped>\n",
       "    .dataframe tbody tr th:only-of-type {\n",
       "        vertical-align: middle;\n",
       "    }\n",
       "\n",
       "    .dataframe tbody tr th {\n",
       "        vertical-align: top;\n",
       "    }\n",
       "\n",
       "    .dataframe thead th {\n",
       "        text-align: right;\n",
       "    }\n",
       "</style>\n",
       "<table border=\"1\" class=\"dataframe\">\n",
       "  <thead>\n",
       "    <tr style=\"text-align: right;\">\n",
       "      <th></th>\n",
       "      <th>Data</th>\n",
       "      <th>Dzień tygodnia</th>\n",
       "      <th>volume_base</th>\n",
       "      <th>volume_sales</th>\n",
       "      <th>volume_rental</th>\n",
       "    </tr>\n",
       "  </thead>\n",
       "  <tbody>\n",
       "    <tr>\n",
       "      <th>0</th>\n",
       "      <td>01-06-2021</td>\n",
       "      <td>Wtorek</td>\n",
       "      <td>7.00</td>\n",
       "      <td>5.00</td>\n",
       "      <td>4.800</td>\n",
       "    </tr>\n",
       "    <tr>\n",
       "      <th>1</th>\n",
       "      <td>02-06-2021</td>\n",
       "      <td>Środa</td>\n",
       "      <td>6.01</td>\n",
       "      <td>6.01</td>\n",
       "      <td>4.404</td>\n",
       "    </tr>\n",
       "    <tr>\n",
       "      <th>2</th>\n",
       "      <td>04-06-2021</td>\n",
       "      <td>Piątek</td>\n",
       "      <td>11.02</td>\n",
       "      <td>13.02</td>\n",
       "      <td>4.408</td>\n",
       "    </tr>\n",
       "    <tr>\n",
       "      <th>3</th>\n",
       "      <td>05-06-2021</td>\n",
       "      <td>Sobota</td>\n",
       "      <td>11.03</td>\n",
       "      <td>12.03</td>\n",
       "      <td>5.412</td>\n",
       "    </tr>\n",
       "    <tr>\n",
       "      <th>4</th>\n",
       "      <td>07-06-2021</td>\n",
       "      <td>Poniedziałek</td>\n",
       "      <td>8.04</td>\n",
       "      <td>6.04</td>\n",
       "      <td>5.216</td>\n",
       "    </tr>\n",
       "  </tbody>\n",
       "</table>\n",
       "</div>"
      ],
      "text/plain": [
       "         Data Dzień tygodnia  volume_base  volume_sales  volume_rental\n",
       "0  01-06-2021         Wtorek         7.00          5.00          4.800\n",
       "1  02-06-2021          Środa         6.01          6.01          4.404\n",
       "2  04-06-2021         Piątek        11.02         13.02          4.408\n",
       "3  05-06-2021         Sobota        11.03         12.03          5.412\n",
       "4  07-06-2021   Poniedziałek         8.04          6.04          5.216"
      ]
     },
     "execution_count": 182,
     "metadata": {},
     "output_type": "execute_result"
    }
   ],
   "source": [
    "prompt_dates.head()"
   ]
  },
  {
   "attachments": {},
   "cell_type": "markdown",
   "id": "4460fd4a",
   "metadata": {},
   "source": [
    "## Tabela procentowa z godzinami"
   ]
  },
  {
   "cell_type": "code",
   "execution_count": 183,
   "id": "de2095c9",
   "metadata": {},
   "outputs": [],
   "source": [
    "hours = []\n",
    "for i in range(8,20):\n",
    "    if i < 18:\n",
    "        hours.append((i, round(expon.rvs(i/2))))\n",
    "    else:\n",
    "        hours.append((i, round(expon.cdf(i/3))))          "
   ]
  },
  {
   "cell_type": "code",
   "execution_count": 184,
   "id": "74027732",
   "metadata": {},
   "outputs": [],
   "source": [
    "hours_prompt = pd.DataFrame(hours, columns=['Godzina', 'Ilość klientów'])"
   ]
  },
  {
   "cell_type": "code",
   "execution_count": 185,
   "id": "c9963e73",
   "metadata": {},
   "outputs": [
    {
     "data": {
      "text/plain": [
       "[<matplotlib.lines.Line2D at 0x18a80619340>]"
      ]
     },
     "execution_count": 185,
     "metadata": {},
     "output_type": "execute_result"
    },
    {
     "data": {
      "image/png": "[encoded data removed]",
      "text/plain": [
       "<Figure size 432x288 with 1 Axes>"
      ]
     },
     "metadata": {
      "needs_background": "light"
     },
     "output_type": "display_data"
    }
   ],
   "source": [
    "plt.step(range(8,20),hours_prompt['Ilość klientów'])"
   ]
  },
  {
   "cell_type": "code",
   "execution_count": 186,
   "id": "78d1941b",
   "metadata": {},
   "outputs": [],
   "source": [
    "hours_prompt['Natężenie'] = [hours_prompt['Ilość klientów'][i]/sum(hours_prompt['Ilość klientów']) for i in range(len(hours_prompt['Godzina']))]"
   ]
  },
  {
   "cell_type": "code",
   "execution_count": 187,
   "id": "bca4321d",
   "metadata": {},
   "outputs": [
    {
     "data": {
      "text/plain": [
       "1.0"
      ]
     },
     "execution_count": 187,
     "metadata": {},
     "output_type": "execute_result"
    }
   ],
   "source": [
    "sum(hours_prompt['Natężenie'])"
   ]
  },
  {
   "attachments": {},
   "cell_type": "markdown",
   "id": "aa1bb30d",
   "metadata": {},
   "source": [
    "## Gry"
   ]
  },
  {
   "cell_type": "code",
   "execution_count": 188,
   "id": "5d73530c",
   "metadata": {},
   "outputs": [],
   "source": [
    "prompt_games[1:] = prompt_games[1:].sample(frac = 1)"
   ]
  },
  {
   "cell_type": "code",
   "execution_count": 190,
   "id": "71577bb9",
   "metadata": {},
   "outputs": [
    {
     "data": {
      "text/html": [
       "<div>\n",
       "<style scoped>\n",
       "    .dataframe tbody tr th:only-of-type {\n",
       "        vertical-align: middle;\n",
       "    }\n",
       "\n",
       "    .dataframe tbody tr th {\n",
       "        vertical-align: top;\n",
       "    }\n",
       "\n",
       "    .dataframe thead th {\n",
       "        text-align: right;\n",
       "    }\n",
       "</style>\n",
       "<table border=\"1\" class=\"dataframe\">\n",
       "  <thead>\n",
       "    <tr style=\"text-align: right;\">\n",
       "      <th></th>\n",
       "      <th>Nazwa</th>\n",
       "      <th>rodzaj</th>\n",
       "      <th>kategoria</th>\n",
       "      <th>opis</th>\n",
       "      <th>Turniej</th>\n",
       "      <th>Kupno</th>\n",
       "      <th>Wypożyczenie</th>\n",
       "      <th>Liczba uczestników</th>\n",
       "      <th>wagi</th>\n",
       "    </tr>\n",
       "  </thead>\n",
       "  <tbody>\n",
       "    <tr>\n",
       "      <th>0</th>\n",
       "      <td>Jamniki</td>\n",
       "      <td>planszowa</td>\n",
       "      <td>familijna</td>\n",
       "      <td>Podczas gry Twój jamnik będzie rósł, musisz wi...</td>\n",
       "      <td>NIE</td>\n",
       "      <td>59.99</td>\n",
       "      <td>NaN</td>\n",
       "      <td>NaN</td>\n",
       "      <td>0.045967</td>\n",
       "    </tr>\n",
       "    <tr>\n",
       "      <th>1</th>\n",
       "      <td>Władca Pierścieni Podróże Przez Śródziemie</td>\n",
       "      <td>planszowa</td>\n",
       "      <td>strategiczna</td>\n",
       "      <td>Wyrusz w Podróże przez Śródziemie z grą Władca...</td>\n",
       "      <td>NIE</td>\n",
       "      <td>315.95</td>\n",
       "      <td>NaN</td>\n",
       "      <td>NaN</td>\n",
       "      <td>0.024920</td>\n",
       "    </tr>\n",
       "    <tr>\n",
       "      <th>2</th>\n",
       "      <td>Ślimaki to mięczaki</td>\n",
       "      <td>planszowa</td>\n",
       "      <td>familijna</td>\n",
       "      <td>Najlepsza Dziecięca Gra Roku 2019! Takiego wyś...</td>\n",
       "      <td>NIE</td>\n",
       "      <td>45.49</td>\n",
       "      <td>NaN</td>\n",
       "      <td>NaN</td>\n",
       "      <td>0.014659</td>\n",
       "    </tr>\n",
       "    <tr>\n",
       "      <th>3</th>\n",
       "      <td>Dobry rok</td>\n",
       "      <td>planszowa</td>\n",
       "      <td>strategiczna</td>\n",
       "      <td>Gra \"Dobry Rok\" sprawdzi się u dzieci w wieku ...</td>\n",
       "      <td>NIE</td>\n",
       "      <td>160.97</td>\n",
       "      <td>NaN</td>\n",
       "      <td>NaN</td>\n",
       "      <td>0.020320</td>\n",
       "    </tr>\n",
       "    <tr>\n",
       "      <th>4</th>\n",
       "      <td>Mastermind</td>\n",
       "      <td>planszowa</td>\n",
       "      <td>logiczna</td>\n",
       "      <td>Mastermind to gra znana chyba każdemu fanowi g...</td>\n",
       "      <td>TAK</td>\n",
       "      <td>26.19</td>\n",
       "      <td>NaN</td>\n",
       "      <td>2</td>\n",
       "      <td>0.011016</td>\n",
       "    </tr>\n",
       "  </tbody>\n",
       "</table>\n",
       "</div>"
      ],
      "text/plain": [
       "                                        Nazwa     rodzaj     kategoria  \\\n",
       "0                                     Jamniki  planszowa     familijna   \n",
       "1  Władca Pierścieni Podróże Przez Śródziemie  planszowa  strategiczna   \n",
       "2                         Ślimaki to mięczaki  planszowa     familijna   \n",
       "3                                   Dobry rok  planszowa  strategiczna   \n",
       "4                                  Mastermind  planszowa      logiczna   \n",
       "\n",
       "                                                opis Turniej   Kupno  \\\n",
       "0  Podczas gry Twój jamnik będzie rósł, musisz wi...     NIE   59.99   \n",
       "1  Wyrusz w Podróże przez Śródziemie z grą Władca...     NIE  315.95   \n",
       "2  Najlepsza Dziecięca Gra Roku 2019! Takiego wyś...     NIE   45.49   \n",
       "3  Gra \"Dobry Rok\" sprawdzi się u dzieci w wieku ...     NIE  160.97   \n",
       "4  Mastermind to gra znana chyba każdemu fanowi g...     TAK   26.19   \n",
       "\n",
       "   Wypożyczenie Liczba uczestników      wagi  \n",
       "0           NaN                NaN  0.045967  \n",
       "1           NaN                NaN  0.024920  \n",
       "2           NaN                NaN  0.014659  \n",
       "3           NaN                NaN  0.020320  \n",
       "4           NaN                  2  0.011016  "
      ]
     },
     "execution_count": 190,
     "metadata": {},
     "output_type": "execute_result"
    }
   ],
   "source": [
    "prompt_games.head()"
   ]
  },
  {
   "cell_type": "code",
   "execution_count": 191,
   "id": "17d62bf4",
   "metadata": {},
   "outputs": [],
   "source": [
    "wagi = expon.pdf(x=np.linspace(0,2,len(prompt_games['Nazwa'])),loc=-1/9)\n",
    "prompt_games['wagi'] = [wagi[i]/np.sum(wagi) for i in range(len(wagi))]"
   ]
  },
  {
   "cell_type": "code",
   "execution_count": 192,
   "id": "00e62663",
   "metadata": {},
   "outputs": [
    {
     "data": {
      "text/plain": [
       "1.0000000000000002"
      ]
     },
     "execution_count": 192,
     "metadata": {},
     "output_type": "execute_result"
    }
   ],
   "source": [
    "sum(prompt_games['wagi'])"
   ]
  },
  {
   "attachments": {},
   "cell_type": "markdown",
   "id": "67b5e91c",
   "metadata": {},
   "source": [
    "_______________"
   ]
  },
  {
   "attachments": {},
   "cell_type": "markdown",
   "id": "e8fb441d",
   "metadata": {},
   "source": [
    "# Faza 2 - tabele pomocnicze"
   ]
  },
  {
   "attachments": {},
   "cell_type": "markdown",
   "id": "f8d3405e",
   "metadata": {},
   "source": [
    "## Pracownicy"
   ]
  },
  {
   "cell_type": "code",
   "execution_count": 420,
   "id": "32ff5c6a",
   "metadata": {},
   "outputs": [],
   "source": [
    "city_generator = lambda n: random.choices(prompt_cities['miasto'], weights=prompt_cities['prob'], k=n)\n",
    "\n",
    "\n",
    "gender_generator = lambda n=6: random.choices(['M', 'F'], weights=[0.5, 0.5], k=n) \n",
    "\n",
    "\n",
    "salary_generator = lambda n=6: [round(3490 + expon.rvs(scale=100, loc=80), 2) for i in range(n)] #trzeba pomyśleć, bo jak jest zwolniony to nie może mieć wynagrodzenia (ma sens?)\n",
    "\n",
    "\n",
    "def phone_generator(n=6):\n",
    "    WST = [45, 50, 51, 53, 57, 60, 66, 69, 72, 73, 78, 79, 88]\n",
    "    digit = [i for i in range(10)]\n",
    "    phone_numbers = []\n",
    "    while n > 0:\n",
    "        phone = ''.join(map(str, [random.choice(WST), *random.choices(digit, k=7)]))\n",
    "        if phone not in phone_numbers:\n",
    "            phone_numbers.append(phone)\n",
    "            n -= 1\n",
    "        else:\n",
    "            pass\n",
    "    return phone_numbers\n",
    "\n",
    "\n",
    "def first_name_generator(gender_list):\n",
    "    names = []\n",
    "    for gender in gender_list:\n",
    "        if gender == 'M':\n",
    "            names.append(*random.choices(prompt_first_names_males['imię'], weights=prompt_first_names_males['prob']))\n",
    "        elif gender == 'F':\n",
    "            names.append(*random.choices(prompt_first_names_females['imię'], weights=prompt_first_names_females['prob']))\n",
    "    return names\n",
    "\n",
    "\n",
    "def last_name_generator(gender_list):\n",
    "    last_names = []\n",
    "    for gender in gender_list:\n",
    "        if gender == 'M':\n",
    "            last_names.append(*random.choices(prompt_last_names_males['nazwisko'], weights=prompt_last_names_males['prob']))\n",
    "        elif gender == 'F':\n",
    "            last_names.append(*random.choices(prompt_last_names_females['nazwisko'], weights=prompt_last_names_females['prob']))\n",
    "    return last_names\n",
    "\n",
    "\n",
    "#wstępna wersja, bo jeszcze nie ma csv + trzeba zabezpieczyć przed powtórkami!\n",
    "def email_generator(df):\n",
    "    emails = df['first_name'].str.cat(df['last_name'], sep='.')\n",
    "    emails = emails.apply(lambda x: '@'.join([x, 'poczta.pl']))\n",
    "    return emails\n",
    "\n",
    "\n",
    "def is_manager(df):\n",
    "    index = df.loc[df['current_salary'] == df['current_salary'].max()].index[0]\n",
    "    df.at[index, 'is_manager'] = True\n"
   ]
  },
  {
   "cell_type": "code",
   "execution_count": 421,
   "id": "2309d0c2",
   "metadata": {},
   "outputs": [],
   "source": [
    "staff = pd.DataFrame({\n",
    "    'city': [*city_generator(6)],\n",
    "    'gender': [*gender_generator()],\n",
    "    'phone': [*phone_generator()],\n",
    "    'current_salary': [*salary_generator()],\n",
    "    'is_manager': [False for i in range(6)]\n",
    "})"
   ]
  },
  {
   "cell_type": "code",
   "execution_count": 422,
   "id": "8c6d4a07",
   "metadata": {},
   "outputs": [
    {
     "data": {
      "text/html": [
       "<div>\n",
       "<style scoped>\n",
       "    .dataframe tbody tr th:only-of-type {\n",
       "        vertical-align: middle;\n",
       "    }\n",
       "\n",
       "    .dataframe tbody tr th {\n",
       "        vertical-align: top;\n",
       "    }\n",
       "\n",
       "    .dataframe thead th {\n",
       "        text-align: right;\n",
       "    }\n",
       "</style>\n",
       "<table border=\"1\" class=\"dataframe\">\n",
       "  <thead>\n",
       "    <tr style=\"text-align: right;\">\n",
       "      <th></th>\n",
       "      <th>city</th>\n",
       "      <th>gender</th>\n",
       "      <th>phone</th>\n",
       "      <th>current_salary</th>\n",
       "      <th>is_manager</th>\n",
       "      <th>first_name</th>\n",
       "      <th>last_name</th>\n",
       "      <th>email</th>\n",
       "    </tr>\n",
       "  </thead>\n",
       "  <tbody>\n",
       "    <tr>\n",
       "      <th>0</th>\n",
       "      <td>Zgorzelec</td>\n",
       "      <td>F</td>\n",
       "      <td>571739244</td>\n",
       "      <td>3710.61</td>\n",
       "      <td>False</td>\n",
       "      <td>MARTYNA</td>\n",
       "      <td>GAWRON</td>\n",
       "      <td>MARTYNA.GAWRON@poczta.pl</td>\n",
       "    </tr>\n",
       "    <tr>\n",
       "      <th>1</th>\n",
       "      <td>Wrocław</td>\n",
       "      <td>M</td>\n",
       "      <td>601047334</td>\n",
       "      <td>3868.97</td>\n",
       "      <td>True</td>\n",
       "      <td>DANIEL</td>\n",
       "      <td>MATYSIAK</td>\n",
       "      <td>DANIEL.MATYSIAK@poczta.pl</td>\n",
       "    </tr>\n",
       "    <tr>\n",
       "      <th>2</th>\n",
       "      <td>Oława</td>\n",
       "      <td>M</td>\n",
       "      <td>667036434</td>\n",
       "      <td>3613.25</td>\n",
       "      <td>False</td>\n",
       "      <td>OLAF</td>\n",
       "      <td>KACZMARCZYK</td>\n",
       "      <td>OLAF.KACZMARCZYK@poczta.pl</td>\n",
       "    </tr>\n",
       "    <tr>\n",
       "      <th>3</th>\n",
       "      <td>Strzegom</td>\n",
       "      <td>M</td>\n",
       "      <td>515035062</td>\n",
       "      <td>3604.23</td>\n",
       "      <td>False</td>\n",
       "      <td>MARIAN</td>\n",
       "      <td>DZIURA</td>\n",
       "      <td>MARIAN.DZIURA@poczta.pl</td>\n",
       "    </tr>\n",
       "    <tr>\n",
       "      <th>4</th>\n",
       "      <td>Dzierżoniów</td>\n",
       "      <td>M</td>\n",
       "      <td>738224940</td>\n",
       "      <td>3577.46</td>\n",
       "      <td>False</td>\n",
       "      <td>FABIAN</td>\n",
       "      <td>KOLASIŃSKI</td>\n",
       "      <td>FABIAN.KOLASIŃSKI@poczta.pl</td>\n",
       "    </tr>\n",
       "    <tr>\n",
       "      <th>5</th>\n",
       "      <td>Pieszyce</td>\n",
       "      <td>F</td>\n",
       "      <td>570346274</td>\n",
       "      <td>3583.42</td>\n",
       "      <td>False</td>\n",
       "      <td>MARTYNA</td>\n",
       "      <td>KRAWIEC</td>\n",
       "      <td>MARTYNA.KRAWIEC@poczta.pl</td>\n",
       "    </tr>\n",
       "  </tbody>\n",
       "</table>\n",
       "</div>"
      ],
      "text/plain": [
       "          city gender      phone  current_salary  is_manager first_name  \\\n",
       "0    Zgorzelec      F  571739244         3710.61       False    MARTYNA   \n",
       "1      Wrocław      M  601047334         3868.97        True     DANIEL   \n",
       "2        Oława      M  667036434         3613.25       False       OLAF   \n",
       "3     Strzegom      M  515035062         3604.23       False     MARIAN   \n",
       "4  Dzierżoniów      M  738224940         3577.46       False     FABIAN   \n",
       "5     Pieszyce      F  570346274         3583.42       False    MARTYNA   \n",
       "\n",
       "     last_name                        email  \n",
       "0       GAWRON     MARTYNA.GAWRON@poczta.pl  \n",
       "1     MATYSIAK    DANIEL.MATYSIAK@poczta.pl  \n",
       "2  KACZMARCZYK   OLAF.KACZMARCZYK@poczta.pl  \n",
       "3       DZIURA      MARIAN.DZIURA@poczta.pl  \n",
       "4   KOLASIŃSKI  FABIAN.KOLASIŃSKI@poczta.pl  \n",
       "5      KRAWIEC    MARTYNA.KRAWIEC@poczta.pl  "
      ]
     },
     "execution_count": 422,
     "metadata": {},
     "output_type": "execute_result"
    }
   ],
   "source": [
    "staff['first_name'] = first_name_generator(staff['gender'])\n",
    "staff['last_name'] = last_name_generator(staff['gender'])\n",
    "staff['email'] = email_generator(staff)\n",
    "is_manager(staff)\n",
    "staff"
   ]
  },
  {
   "attachments": {},
   "cell_type": "markdown",
   "id": "fa7e1009",
   "metadata": {},
   "source": [
    "## Godziny pracy"
   ]
  },
  {
   "attachments": {},
   "cell_type": "markdown",
   "id": "0f7c8eb4",
   "metadata": {},
   "source": [
    "## Związki"
   ]
  },
  {
   "attachments": {},
   "cell_type": "markdown",
   "id": "fc745bc3",
   "metadata": {},
   "source": [
    "## Partnerzy"
   ]
  },
  {
   "attachments": {},
   "cell_type": "markdown",
   "id": "f7481852",
   "metadata": {},
   "source": [
    "## Klienci - część A"
   ]
  },
  {
   "attachments": {},
   "cell_type": "markdown",
   "id": "2af0ce04",
   "metadata": {},
   "source": [
    "## Koszty utrzymania"
   ]
  },
  {
   "attachments": {},
   "cell_type": "markdown",
   "id": "48a31eaf",
   "metadata": {},
   "source": [
    "## Tytuły wydatków"
   ]
  },
  {
   "attachments": {},
   "cell_type": "markdown",
   "id": "48998a65",
   "metadata": {},
   "source": [
    "## Typy wydatków"
   ]
  },
  {
   "attachments": {},
   "cell_type": "markdown",
   "id": "4585b22d",
   "metadata": {},
   "source": [
    "## Wydatki i tytuły jeszcze raz"
   ]
  },
  {
   "attachments": {},
   "cell_type": "markdown",
   "id": "cfd4fb44",
   "metadata": {},
   "source": [
    "## Turnieje"
   ]
  },
  {
   "attachments": {},
   "cell_type": "markdown",
   "id": "4aa7e152",
   "metadata": {},
   "source": [
    "## Udziały"
   ]
  },
  {
   "attachments": {},
   "cell_type": "markdown",
   "id": "6404d0a7",
   "metadata": {},
   "source": [
    "## Magazyn"
   ]
  },
  {
   "attachments": {},
   "cell_type": "markdown",
   "id": "9eeef585",
   "metadata": {},
   "source": [
    "## Ceny gier"
   ]
  },
  {
   "attachments": {},
   "cell_type": "markdown",
   "id": "966cee6b",
   "metadata": {},
   "source": [
    "## Sprzedaże"
   ]
  },
  {
   "attachments": {},
   "cell_type": "markdown",
   "id": "562b928d",
   "metadata": {},
   "source": [
    "## Rentale"
   ]
  },
  {
   "attachments": {},
   "cell_type": "markdown",
   "id": "24aebfa4",
   "metadata": {},
   "source": [
    "## Gry"
   ]
  },
  {
   "attachments": {},
   "cell_type": "markdown",
   "id": "896654be",
   "metadata": {},
   "source": [
    "## Katrgorie gier i typy gier"
   ]
  },
  {
   "attachments": {},
   "cell_type": "markdown",
   "id": "d3988e0c",
   "metadata": {},
   "source": [
    "## Klienci - część B"
   ]
  },
  {
   "attachments": {},
   "cell_type": "markdown",
   "id": "ea6b8c85",
   "metadata": {},
   "source": [
    "## Miasta"
   ]
  },
  {
   "attachments": {},
   "cell_type": "markdown",
   "id": "4b43b28a",
   "metadata": {},
   "source": [
    "## Payments i invoices"
   ]
  },
  {
   "attachments": {},
   "cell_type": "markdown",
   "id": "5df385e8",
   "metadata": {},
   "source": [
    "------\n",
    "\n",
    "# Faza 3 - ostateczne tabele"
   ]
  },
  {
   "cell_type": "code",
   "execution_count": null,
   "id": "472ebaff",
   "metadata": {},
   "outputs": [],
   "source": []
  }
 ],
 "metadata": {
  "kernelspec": {
   "display_name": "Python 3 (ipykernel)",
   "language": "python",
   "name": "python3"
  },
  "language_info": {
   "codemirror_mode": {
    "name": "ipython",
    "version": 3
   },
   "file_extension": ".py",
   "mimetype": "text/x-python",
   "name": "python",
   "nbconvert_exporter": "python",
   "pygments_lexer": "ipython3",
   "version": "3.9.0"
  }
 },
 "nbformat": 4,
 "nbformat_minor": 5
}

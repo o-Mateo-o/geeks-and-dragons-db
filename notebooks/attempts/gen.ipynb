{
 "cells": [
  {
   "cell_type": "code",
   "execution_count": 1,
   "id": "f59c05a7",
   "metadata": {},
   "outputs": [],
   "source": [
    "import pandas as pd \n",
    "import numpy as np \n",
    "from scipy.stats import norm, expon, gamma\n",
    "import datetime\n",
    "import holidays \n",
    "import matplotlib.pyplot as plt\n",
    "import os\n",
    "from pathlib import Path\n",
    "import random\n",
    "from faker import Faker"
   ]
  },
  {
   "cell_type": "code",
   "execution_count": 2,
   "id": "5691beef",
   "metadata": {},
   "outputs": [],
   "source": [
    "#constants\n",
    "shop_open_date = datetime.datetime(2021,6,1) #Dzień Dziecka bo tak \n",
    "today = datetime.datetime(2023,6,25)\n",
    "staff_number = 6"
   ]
  },
  {
   "attachments": {},
   "cell_type": "markdown",
   "id": "ba0e1759",
   "metadata": {},
   "source": [
    "# Faza 1 - przygotowanie"
   ]
  },
  {
   "attachments": {},
   "cell_type": "markdown",
   "id": "cd49785a",
   "metadata": {},
   "source": [
    "## Wczytanie csv"
   ]
  },
  {
   "cell_type": "code",
   "execution_count": 3,
   "id": "596bd92f",
   "metadata": {},
   "outputs": [],
   "source": [
    "def file_path(file_name: str):\n",
    "    dir_path = [ i for i in Path.cwd().parents if i.name == 'geeks-and-dragons-db'][0]\n",
    "    path = os.path.join(dir_path, 'config', 'prompts', file_name)\n",
    "    if os.path.exists(path):\n",
    "        return path\n",
    "    else:\n",
    "        raise FileNotFoundError('No such file')"
   ]
  },
  {
   "cell_type": "code",
   "execution_count": 4,
   "id": "e6ad6c52",
   "metadata": {},
   "outputs": [],
   "source": [
    "prompt_games = pd.read_csv(file_path('gry.csv'))\n",
    "prompt_first_names_males = pd.read_csv(file_path('imiona_m.csv'))\n",
    "prompt_last_names_males = pd.read_csv(file_path('nazwiska_m.csv'))\n",
    "prompt_first_names_females = pd.read_csv(file_path('imiona_k.csv'))\n",
    "prompt_last_names_females = pd.read_csv(file_path('nazwiska_k.csv'))\n",
    "prompt_cities = pd.read_csv(file_path('miasta.csv'))\n",
    "prompt_emails = pd.read_csv(file_path('Domeny.csv'))"
   ]
  },
  {
   "attachments": {},
   "cell_type": "markdown",
   "id": "3a5283b0",
   "metadata": {},
   "source": [
    "## Tabela prompt_dates"
   ]
  },
  {
   "cell_type": "code",
   "execution_count": 5,
   "id": "4cd53d67",
   "metadata": {},
   "outputs": [],
   "source": [
    "# shop_open_date = datetime.datetime(2021,6,1) #Dzień Dziecka bo tak \n",
    "# today = datetime.datetime(2023,6,25)"
   ]
  },
  {
   "cell_type": "code",
   "execution_count": 6,
   "id": "2e6cb59b",
   "metadata": {},
   "outputs": [],
   "source": [
    "weekday_dict = {'0':'Poniedziałek', '1':'Wtorek', '2':'Środa', '3':'Czwartek', '4':'Piątek', '5':'Sobota'}\n",
    "\n",
    "def gen_dates(start_date, end_date):\n",
    "    dates = []\n",
    "    holidays_pl = holidays.Poland()\n",
    "    current_date = start_date\n",
    "    while current_date <= end_date:\n",
    "        if current_date.weekday() != 6 and current_date not in holidays_pl:\n",
    "            dates.append((current_date.date().strftime(\"%d-%m-%Y\"), weekday_dict[str(current_date.weekday())]))\n",
    "        current_date += datetime.timedelta(days=1)\n",
    "    return dates"
   ]
  },
  {
   "cell_type": "code",
   "execution_count": 7,
   "id": "55946ce3",
   "metadata": {},
   "outputs": [],
   "source": [
    "generated_dates = gen_dates(shop_open_date, today)"
   ]
  },
  {
   "cell_type": "code",
   "execution_count": 8,
   "id": "0ff252e0",
   "metadata": {},
   "outputs": [],
   "source": [
    "prompt_dates = pd.DataFrame(generated_dates, columns=['Data', 'Dzień tygodnia'])"
   ]
  },
  {
   "attachments": {},
   "cell_type": "markdown",
   "id": "9712ed84",
   "metadata": {},
   "source": [
    "## Ruch - dni"
   ]
  },
  {
   "cell_type": "code",
   "execution_count": 9,
   "id": "1876bab5",
   "metadata": {},
   "outputs": [],
   "source": [
    "A = 6\n",
    "B = 0.01 \n",
    "dodatek_dzienny = {'Poniedziałek':'2', 'Wtorek':'1', 'Środa':'0', 'Czwartek':'4', 'Piątek':'5', 'Sobota':'5'}\n",
    "\n",
    "volume_base = []\n",
    "for i in range(len(prompt_dates['Dzień tygodnia'])):\n",
    "    dd = int(dodatek_dzienny[prompt_dates['Dzień tygodnia'][i]])\n",
    "    volume_base.append(A+B*i+dd)"
   ]
  },
  {
   "cell_type": "code",
   "execution_count": 10,
   "id": "b36ef620",
   "metadata": {},
   "outputs": [],
   "source": [
    "prompt_dates['volume_base'] = volume_base"
   ]
  },
  {
   "cell_type": "code",
   "execution_count": 11,
   "id": "930357eb",
   "metadata": {},
   "outputs": [],
   "source": [
    "volume_sales = []\n",
    "for v_base in prompt_dates['volume_base']:\n",
    "    szum = round(norm.rvs(0,1.5))\n",
    "    volume_sales.append(max(0,v_base+szum))\n",
    "\n",
    "prompt_dates['volume_sales'] = volume_sales"
   ]
  },
  {
   "cell_type": "code",
   "execution_count": 12,
   "id": "9b93de02",
   "metadata": {},
   "outputs": [],
   "source": [
    "volume_rental = []\n",
    "for v_base in prompt_dates['volume_base']:\n",
    "    szum = round(norm.rvs(0,1.5))\n",
    "    volume_rental.append(max(0,0.4*v_base+szum))\n",
    "\n",
    "prompt_dates['volume_rental'] = volume_rental"
   ]
  },
  {
   "cell_type": "code",
   "execution_count": 13,
   "id": "89c11635",
   "metadata": {},
   "outputs": [
    {
     "data": {
      "text/html": [
       "<div>\n",
       "<style scoped>\n",
       "    .dataframe tbody tr th:only-of-type {\n",
       "        vertical-align: middle;\n",
       "    }\n",
       "\n",
       "    .dataframe tbody tr th {\n",
       "        vertical-align: top;\n",
       "    }\n",
       "\n",
       "    .dataframe thead th {\n",
       "        text-align: right;\n",
       "    }\n",
       "</style>\n",
       "<table border=\"1\" class=\"dataframe\">\n",
       "  <thead>\n",
       "    <tr style=\"text-align: right;\">\n",
       "      <th></th>\n",
       "      <th>Data</th>\n",
       "      <th>Dzień tygodnia</th>\n",
       "      <th>volume_base</th>\n",
       "      <th>volume_sales</th>\n",
       "      <th>volume_rental</th>\n",
       "    </tr>\n",
       "  </thead>\n",
       "  <tbody>\n",
       "    <tr>\n",
       "      <th>0</th>\n",
       "      <td>01-06-2021</td>\n",
       "      <td>Wtorek</td>\n",
       "      <td>7.00</td>\n",
       "      <td>6.00</td>\n",
       "      <td>4.800</td>\n",
       "    </tr>\n",
       "    <tr>\n",
       "      <th>1</th>\n",
       "      <td>02-06-2021</td>\n",
       "      <td>Środa</td>\n",
       "      <td>6.01</td>\n",
       "      <td>5.01</td>\n",
       "      <td>2.404</td>\n",
       "    </tr>\n",
       "    <tr>\n",
       "      <th>2</th>\n",
       "      <td>04-06-2021</td>\n",
       "      <td>Piątek</td>\n",
       "      <td>11.02</td>\n",
       "      <td>11.02</td>\n",
       "      <td>4.408</td>\n",
       "    </tr>\n",
       "    <tr>\n",
       "      <th>3</th>\n",
       "      <td>05-06-2021</td>\n",
       "      <td>Sobota</td>\n",
       "      <td>11.03</td>\n",
       "      <td>13.03</td>\n",
       "      <td>2.412</td>\n",
       "    </tr>\n",
       "    <tr>\n",
       "      <th>4</th>\n",
       "      <td>07-06-2021</td>\n",
       "      <td>Poniedziałek</td>\n",
       "      <td>8.04</td>\n",
       "      <td>6.04</td>\n",
       "      <td>5.216</td>\n",
       "    </tr>\n",
       "  </tbody>\n",
       "</table>\n",
       "</div>"
      ],
      "text/plain": [
       "         Data Dzień tygodnia  volume_base  volume_sales  volume_rental\n",
       "0  01-06-2021         Wtorek         7.00          6.00          4.800\n",
       "1  02-06-2021          Środa         6.01          5.01          2.404\n",
       "2  04-06-2021         Piątek        11.02         11.02          4.408\n",
       "3  05-06-2021         Sobota        11.03         13.03          2.412\n",
       "4  07-06-2021   Poniedziałek         8.04          6.04          5.216"
      ]
     },
     "execution_count": 13,
     "metadata": {},
     "output_type": "execute_result"
    }
   ],
   "source": [
    "prompt_dates.head()"
   ]
  },
  {
   "attachments": {},
   "cell_type": "markdown",
   "id": "4460fd4a",
   "metadata": {},
   "source": [
    "## Tabela procentowa z godzinami"
   ]
  },
  {
   "cell_type": "code",
   "execution_count": 14,
   "id": "de2095c9",
   "metadata": {},
   "outputs": [],
   "source": [
    "hours = []\n",
    "for i in range(8,20):\n",
    "    if i < 18:\n",
    "        hours.append((i, round(expon.rvs(i/2))))\n",
    "    else:\n",
    "        hours.append((i, round(expon.cdf(i/3))))          "
   ]
  },
  {
   "cell_type": "code",
   "execution_count": 15,
   "id": "74027732",
   "metadata": {},
   "outputs": [],
   "source": [
    "hours_prompt = pd.DataFrame(hours, columns=['Godzina', 'Ilość klientów'])"
   ]
  },
  {
   "cell_type": "code",
   "execution_count": 16,
   "id": "c9963e73",
   "metadata": {},
   "outputs": [
    {
     "data": {
      "text/plain": [
       "[<matplotlib.lines.Line2D at 0x1d40f69a280>]"
      ]
     },
     "execution_count": 16,
     "metadata": {},
     "output_type": "execute_result"
    },
    {
     "data": {
      "image/png": "[encoded data removed]",
      "text/plain": [
       "<Figure size 432x288 with 1 Axes>"
      ]
     },
     "metadata": {
      "needs_background": "light"
     },
     "output_type": "display_data"
    }
   ],
   "source": [
    "plt.step(range(8,20),hours_prompt['Ilość klientów'])"
   ]
  },
  {
   "cell_type": "code",
   "execution_count": 17,
   "id": "78d1941b",
   "metadata": {},
   "outputs": [],
   "source": [
    "hours_prompt['Natężenie'] = [hours_prompt['Ilość klientów'][i]/sum(hours_prompt['Ilość klientów']) for i in range(len(hours_prompt['Godzina']))]"
   ]
  },
  {
   "cell_type": "code",
   "execution_count": 18,
   "id": "bca4321d",
   "metadata": {},
   "outputs": [
    {
     "data": {
      "text/plain": [
       "0.9999999999999999"
      ]
     },
     "execution_count": 18,
     "metadata": {},
     "output_type": "execute_result"
    }
   ],
   "source": [
    "sum(hours_prompt['Natężenie'])"
   ]
  },
  {
   "attachments": {},
   "cell_type": "markdown",
   "id": "aa1bb30d",
   "metadata": {},
   "source": [
    "## Gry"
   ]
  },
  {
   "cell_type": "code",
   "execution_count": 19,
   "id": "5d73530c",
   "metadata": {},
   "outputs": [],
   "source": [
    "prompt_games[1:] = prompt_games[1:].sample(frac = 1)"
   ]
  },
  {
   "cell_type": "code",
   "execution_count": 20,
   "id": "71577bb9",
   "metadata": {},
   "outputs": [
    {
     "data": {
      "text/html": [
       "<div>\n",
       "<style scoped>\n",
       "    .dataframe tbody tr th:only-of-type {\n",
       "        vertical-align: middle;\n",
       "    }\n",
       "\n",
       "    .dataframe tbody tr th {\n",
       "        vertical-align: top;\n",
       "    }\n",
       "\n",
       "    .dataframe thead th {\n",
       "        text-align: right;\n",
       "    }\n",
       "</style>\n",
       "<table border=\"1\" class=\"dataframe\">\n",
       "  <thead>\n",
       "    <tr style=\"text-align: right;\">\n",
       "      <th></th>\n",
       "      <th>Nazwa</th>\n",
       "      <th>rodzaj</th>\n",
       "      <th>kategoria</th>\n",
       "      <th>opis</th>\n",
       "      <th>Turniej</th>\n",
       "      <th>Kupno</th>\n",
       "      <th>Wypożyczenie</th>\n",
       "      <th>Liczba uczestników</th>\n",
       "    </tr>\n",
       "  </thead>\n",
       "  <tbody>\n",
       "    <tr>\n",
       "      <th>0</th>\n",
       "      <td>Jamniki</td>\n",
       "      <td>planszowa</td>\n",
       "      <td>familijna</td>\n",
       "      <td>Podczas gry Twój jamnik będzie rósł, musisz wi...</td>\n",
       "      <td>NIE</td>\n",
       "      <td>59.99</td>\n",
       "      <td>NaN</td>\n",
       "      <td>NaN</td>\n",
       "    </tr>\n",
       "    <tr>\n",
       "      <th>1</th>\n",
       "      <td>Paszczaki</td>\n",
       "      <td>karciana</td>\n",
       "      <td>towarzyska</td>\n",
       "      <td>Podczas gry wszyscy kolejno wykładamy na stół ...</td>\n",
       "      <td>NIE</td>\n",
       "      <td>30.90</td>\n",
       "      <td>5.0</td>\n",
       "      <td>NaN</td>\n",
       "    </tr>\n",
       "    <tr>\n",
       "      <th>2</th>\n",
       "      <td>Ekosystem</td>\n",
       "      <td>karciana</td>\n",
       "      <td>familijna</td>\n",
       "      <td>Gra pełna harmonii i równowagi. Jak w przyrodz...</td>\n",
       "      <td>NIE</td>\n",
       "      <td>54.03</td>\n",
       "      <td>7.0</td>\n",
       "      <td>NaN</td>\n",
       "    </tr>\n",
       "    <tr>\n",
       "      <th>3</th>\n",
       "      <td>Mistakos</td>\n",
       "      <td>inna</td>\n",
       "      <td>zręcznościowa</td>\n",
       "      <td>Mistakos Krzesła, w wersji dla 3 osób, zachwyc...</td>\n",
       "      <td>NIE</td>\n",
       "      <td>44.99</td>\n",
       "      <td>NaN</td>\n",
       "      <td>NaN</td>\n",
       "    </tr>\n",
       "    <tr>\n",
       "      <th>4</th>\n",
       "      <td>Mrówki</td>\n",
       "      <td>karciana</td>\n",
       "      <td>familijna</td>\n",
       "      <td>Twoim zadaniem jest odnajdywanie małych mrówek...</td>\n",
       "      <td>NIE</td>\n",
       "      <td>25.97</td>\n",
       "      <td>NaN</td>\n",
       "      <td>NaN</td>\n",
       "    </tr>\n",
       "  </tbody>\n",
       "</table>\n",
       "</div>"
      ],
      "text/plain": [
       "       Nazwa     rodzaj      kategoria  \\\n",
       "0    Jamniki  planszowa      familijna   \n",
       "1  Paszczaki   karciana     towarzyska   \n",
       "2  Ekosystem   karciana      familijna   \n",
       "3   Mistakos       inna  zręcznościowa   \n",
       "4     Mrówki   karciana      familijna   \n",
       "\n",
       "                                                opis Turniej  Kupno  \\\n",
       "0  Podczas gry Twój jamnik będzie rósł, musisz wi...     NIE  59.99   \n",
       "1  Podczas gry wszyscy kolejno wykładamy na stół ...     NIE  30.90   \n",
       "2  Gra pełna harmonii i równowagi. Jak w przyrodz...     NIE  54.03   \n",
       "3  Mistakos Krzesła, w wersji dla 3 osób, zachwyc...     NIE  44.99   \n",
       "4  Twoim zadaniem jest odnajdywanie małych mrówek...     NIE  25.97   \n",
       "\n",
       "   Wypożyczenie Liczba uczestników  \n",
       "0           NaN                NaN  \n",
       "1           5.0                NaN  \n",
       "2           7.0                NaN  \n",
       "3           NaN                NaN  \n",
       "4           NaN                NaN  "
      ]
     },
     "execution_count": 20,
     "metadata": {},
     "output_type": "execute_result"
    }
   ],
   "source": [
    "prompt_games.head()"
   ]
  },
  {
   "cell_type": "code",
   "execution_count": 21,
   "id": "17d62bf4",
   "metadata": {},
   "outputs": [],
   "source": [
    "wagi = expon.pdf(x=np.linspace(0,2,len(prompt_games['Nazwa'])),loc=-1/9)\n",
    "prompt_games['wagi'] = [wagi[i]/np.sum(wagi) for i in range(len(wagi))]"
   ]
  },
  {
   "cell_type": "code",
   "execution_count": 22,
   "id": "00e62663",
   "metadata": {},
   "outputs": [
    {
     "data": {
      "text/plain": [
       "1.0000000000000002"
      ]
     },
     "execution_count": 22,
     "metadata": {},
     "output_type": "execute_result"
    }
   ],
   "source": [
    "sum(prompt_games['wagi'])"
   ]
  },
  {
   "attachments": {},
   "cell_type": "markdown",
   "id": "67b5e91c",
   "metadata": {},
   "source": [
    "_______________"
   ]
  },
  {
   "attachments": {},
   "cell_type": "markdown",
   "id": "e8fb441d",
   "metadata": {},
   "source": [
    "# Faza 2 - tabele pomocnicze"
   ]
  },
  {
   "attachments": {},
   "cell_type": "markdown",
   "id": "f8d3405e",
   "metadata": {},
   "source": [
    "## Pracownicy"
   ]
  },
  {
   "cell_type": "code",
   "execution_count": 26,
   "id": "32ff5c6a",
   "metadata": {},
   "outputs": [],
   "source": [
    "id_generator = lambda n: [i for i in range(1, n+1)]\n",
    "\n",
    "\n",
    "city_generator = lambda n: random.choices(prompt_cities['miasto'], weights=prompt_cities['prob'], k=n)\n",
    "\n",
    "\n",
    "gender_generator = lambda n: random.choices(['M', 'F'], weights=[0.5, 0.5], k=n) \n",
    "\n",
    "\n",
    "def phone_generator(n=6):\n",
    "    WST = [45, 50, 51, 53, 57, 60, 66, 69, 72, 73, 78, 79, 88]\n",
    "    digit = [i for i in range(10)]\n",
    "    phone_numbers = []\n",
    "    while n > 0:\n",
    "        phone = ''.join(map(str, [random.choice(WST), *random.choices(digit, k=7)]))\n",
    "        if phone not in phone_numbers:\n",
    "            phone_numbers.append(phone)\n",
    "            n -= 1\n",
    "        else:\n",
    "            pass\n",
    "    return phone_numbers\n",
    "\n",
    "\n",
    "def first_name_generator(df):\n",
    "    gender_list = df['gender']\n",
    "    names = []\n",
    "    for gender in gender_list:\n",
    "        if gender == 'M':\n",
    "            names.append(*random.choices(prompt_first_names_males['imię'], weights=prompt_first_names_males['prob']))\n",
    "        elif gender == 'F':\n",
    "            names.append(*random.choices(prompt_first_names_females['imię'], weights=prompt_first_names_females['prob']))\n",
    "    return names\n",
    "\n",
    "\n",
    "def last_name_generator(df):\n",
    "    gender_list = df['gender']\n",
    "    last_names = []\n",
    "    for gender in gender_list:\n",
    "        if gender == 'M':\n",
    "            last_names.append(*random.choices(prompt_last_names_males['nazwisko'], weights=prompt_last_names_males['prob']))\n",
    "        elif gender == 'F':\n",
    "            last_names.append(*random.choices(prompt_last_names_females['nazwisko'], weights=prompt_last_names_females['prob']))\n",
    "    return last_names\n",
    "\n",
    "\n",
    "def email_generator(df):\n",
    "    name = df['first_name'].str.cat(df['last_name'], sep='.')\n",
    "    while name.is_unique == False:\n",
    "        name = name.apply(lambda x: x + str(random.choice(range(10))))\n",
    "    df['email'] = name.apply(lambda x: '@'.join([x, random.choice(prompt_emails['Domena'])]))\n",
    "\n",
    "\n",
    "def to_date_generator(n):\n",
    "    dates = [np.nan for i in range(n)]\n",
    "    dates[n-2] = Faker().date_between(shop_open_date + datetime.timedelta(days=90), today - datetime.timedelta(days=90))\n",
    "    return dates\n",
    "\n",
    "\n",
    "def from_date_generator(df):\n",
    "    n = df.shape[0]\n",
    "    end_date = df['to_date'].loc[df['to_date'].isnull() == False].values[0]\n",
    "    dates = [shop_open_date for i in range(n)]\n",
    "    dates[n-1] = end_date + datetime.timedelta(days=30)\n",
    "    return dates\n",
    "\n",
    "\n",
    "def staff_update_generator(df):\n",
    "    n = df.shape[0]\n",
    "    df_date = df[['to_date', 'from_date']]\n",
    "    df['updated_at'] = df_date.max(axis=1, skipna=True, numeric_only = False)\n",
    "    \n",
    "\n",
    "def salary_generator(df):\n",
    "    n = df.shape[0]\n",
    "    df['current_salary'] = [round(3490 + expon.rvs(scale=100, loc=80), 2) for i in range(n)]\n",
    "    df.loc[df['to_date'].isnull() == False, 'current_salary'] = np.nan\n",
    "\n",
    "\n",
    "def is_manager(df):\n",
    "    n = df.shape[0]\n",
    "    df['is_manager'] = [False for i in range(n)]\n",
    "    df.loc[df['current_salary'] == df['current_salary'].max(), 'is_manager'] = True"
   ]
  },
  {
   "cell_type": "code",
   "execution_count": 27,
   "id": "2309d0c2",
   "metadata": {},
   "outputs": [],
   "source": [
    "def staff_df_generator(n):\n",
    "    staff = pd.DataFrame({\n",
    "        'staff_id': [*id_generator(n)],\n",
    "        'city': [*city_generator(n)],\n",
    "        'gender': [*gender_generator(n)],\n",
    "        'phone': [*phone_generator(n)],\n",
    "        'to_date': [*to_date_generator(n)]\n",
    "    })\n",
    "    staff['from_date'] = from_date_generator(staff)\n",
    "    staff['first_name'] = first_name_generator(staff)\n",
    "    staff['last_name'] = last_name_generator(staff)\n",
    "    email_generator(staff)\n",
    "    salary_generator(staff)\n",
    "    is_manager(staff)\n",
    "    staff_update_generator(staff)\n",
    "    staff = staff.reindex(labels=['staff_id','first_name', 'last_name', 'phone', 'email', 'city', 'current_salary', 'is_manager', 'gender', 'from_date', 'to_date', 'updated_at'], axis=1)\n",
    "    return staff"
   ]
  },
  {
   "cell_type": "code",
   "execution_count": 28,
   "id": "3c89312d",
   "metadata": {},
   "outputs": [
    {
     "data": {
      "text/html": [
       "<div>\n",
       "<style scoped>\n",
       "    .dataframe tbody tr th:only-of-type {\n",
       "        vertical-align: middle;\n",
       "    }\n",
       "\n",
       "    .dataframe tbody tr th {\n",
       "        vertical-align: top;\n",
       "    }\n",
       "\n",
       "    .dataframe thead th {\n",
       "        text-align: right;\n",
       "    }\n",
       "</style>\n",
       "<table border=\"1\" class=\"dataframe\">\n",
       "  <thead>\n",
       "    <tr style=\"text-align: right;\">\n",
       "      <th></th>\n",
       "      <th>staff_id</th>\n",
       "      <th>first_name</th>\n",
       "      <th>last_name</th>\n",
       "      <th>phone</th>\n",
       "      <th>email</th>\n",
       "      <th>city</th>\n",
       "      <th>current_salary</th>\n",
       "      <th>is_manager</th>\n",
       "      <th>gender</th>\n",
       "      <th>from_date</th>\n",
       "      <th>to_date</th>\n",
       "      <th>updated_at</th>\n",
       "    </tr>\n",
       "  </thead>\n",
       "  <tbody>\n",
       "    <tr>\n",
       "      <th>0</th>\n",
       "      <td>1</td>\n",
       "      <td>GENOWEFA</td>\n",
       "      <td>JAKUBCZAK</td>\n",
       "      <td>573423397</td>\n",
       "      <td>GENOWEFA.JAKUBCZAK@poczta.fm</td>\n",
       "      <td>Polkowice</td>\n",
       "      <td>3629.59</td>\n",
       "      <td>False</td>\n",
       "      <td>F</td>\n",
       "      <td>2021-06-01</td>\n",
       "      <td>NaN</td>\n",
       "      <td>2021-06-01</td>\n",
       "    </tr>\n",
       "    <tr>\n",
       "      <th>1</th>\n",
       "      <td>2</td>\n",
       "      <td>KONRAD</td>\n",
       "      <td>DEMCZUK</td>\n",
       "      <td>881558957</td>\n",
       "      <td>KONRAD.DEMCZUK@o2.pl</td>\n",
       "      <td>Wrocław</td>\n",
       "      <td>3603.76</td>\n",
       "      <td>False</td>\n",
       "      <td>M</td>\n",
       "      <td>2021-06-01</td>\n",
       "      <td>NaN</td>\n",
       "      <td>2021-06-01</td>\n",
       "    </tr>\n",
       "    <tr>\n",
       "      <th>2</th>\n",
       "      <td>3</td>\n",
       "      <td>ŁUKASZ</td>\n",
       "      <td>ORŁOWSKI</td>\n",
       "      <td>692648706</td>\n",
       "      <td>ŁUKASZ.ORŁOWSKI@vp.pl</td>\n",
       "      <td>Duszniki-Zdrój</td>\n",
       "      <td>3795.86</td>\n",
       "      <td>True</td>\n",
       "      <td>M</td>\n",
       "      <td>2021-06-01</td>\n",
       "      <td>NaN</td>\n",
       "      <td>2021-06-01</td>\n",
       "    </tr>\n",
       "    <tr>\n",
       "      <th>3</th>\n",
       "      <td>4</td>\n",
       "      <td>BARBARA</td>\n",
       "      <td>NIEDŹWIEDZKA</td>\n",
       "      <td>579809582</td>\n",
       "      <td>BARBARA.NIEDŹWIEDZKA@onet.pl</td>\n",
       "      <td>Świebodzice</td>\n",
       "      <td>3593.39</td>\n",
       "      <td>False</td>\n",
       "      <td>F</td>\n",
       "      <td>2021-06-01</td>\n",
       "      <td>NaN</td>\n",
       "      <td>2021-06-01</td>\n",
       "    </tr>\n",
       "    <tr>\n",
       "      <th>4</th>\n",
       "      <td>5</td>\n",
       "      <td>IWONA</td>\n",
       "      <td>GONERA</td>\n",
       "      <td>880843251</td>\n",
       "      <td>IWONA.GONERA@vp.pl</td>\n",
       "      <td>Kamienna Góra</td>\n",
       "      <td>NaN</td>\n",
       "      <td>False</td>\n",
       "      <td>F</td>\n",
       "      <td>2021-06-01</td>\n",
       "      <td>2021-10-08</td>\n",
       "      <td>2021-10-08</td>\n",
       "    </tr>\n",
       "    <tr>\n",
       "      <th>5</th>\n",
       "      <td>6</td>\n",
       "      <td>EWA</td>\n",
       "      <td>MARCISZ</td>\n",
       "      <td>502131715</td>\n",
       "      <td>EWA.MARCISZ@polska.pl</td>\n",
       "      <td>Wrocław</td>\n",
       "      <td>3614.84</td>\n",
       "      <td>False</td>\n",
       "      <td>F</td>\n",
       "      <td>2021-11-07</td>\n",
       "      <td>NaN</td>\n",
       "      <td>2021-11-07</td>\n",
       "    </tr>\n",
       "  </tbody>\n",
       "</table>\n",
       "</div>"
      ],
      "text/plain": [
       "   staff_id first_name     last_name      phone                         email  \\\n",
       "0         1   GENOWEFA     JAKUBCZAK  573423397  GENOWEFA.JAKUBCZAK@poczta.fm   \n",
       "1         2     KONRAD       DEMCZUK  881558957          KONRAD.DEMCZUK@o2.pl   \n",
       "2         3     ŁUKASZ      ORŁOWSKI  692648706         ŁUKASZ.ORŁOWSKI@vp.pl   \n",
       "3         4    BARBARA  NIEDŹWIEDZKA  579809582  BARBARA.NIEDŹWIEDZKA@onet.pl   \n",
       "4         5      IWONA        GONERA  880843251            IWONA.GONERA@vp.pl   \n",
       "5         6        EWA       MARCISZ  502131715         EWA.MARCISZ@polska.pl   \n",
       "\n",
       "              city  current_salary  is_manager gender  from_date     to_date  \\\n",
       "0        Polkowice         3629.59       False      F 2021-06-01         NaN   \n",
       "1          Wrocław         3603.76       False      M 2021-06-01         NaN   \n",
       "2   Duszniki-Zdrój         3795.86        True      M 2021-06-01         NaN   \n",
       "3      Świebodzice         3593.39       False      F 2021-06-01         NaN   \n",
       "4    Kamienna Góra             NaN       False      F 2021-06-01  2021-10-08   \n",
       "5          Wrocław         3614.84       False      F 2021-11-07         NaN   \n",
       "\n",
       "  updated_at  \n",
       "0 2021-06-01  \n",
       "1 2021-06-01  \n",
       "2 2021-06-01  \n",
       "3 2021-06-01  \n",
       "4 2021-10-08  \n",
       "5 2021-11-07  "
      ]
     },
     "execution_count": 28,
     "metadata": {},
     "output_type": "execute_result"
    }
   ],
   "source": [
    "staff = staff_df_generator(staff_number)\n",
    "staff"
   ]
  },
  {
   "attachments": {},
   "cell_type": "markdown",
   "id": "fa7e1009",
   "metadata": {},
   "source": [
    "## Godziny pracy"
   ]
  },
  {
   "attachments": {},
   "cell_type": "markdown",
   "id": "0f7c8eb4",
   "metadata": {},
   "source": [
    "## Związki"
   ]
  },
  {
   "cell_type": "code",
   "execution_count": 29,
   "id": "b2f18a9b",
   "metadata": {},
   "outputs": [],
   "source": [
    "N = int(np.ceil(staff_number*1.5))\n",
    "\n",
    "def realtionships_df_generator(staff_df, n=N):\n",
    "    staff_id = []\n",
    "    partner_id = []\n",
    "    staff_gender = []\n",
    "    update = []\n",
    "    staff_df = staff_df.loc[staff_df['current_salary'].isnull() == False]\n",
    "    for i in range(n):\n",
    "        employee = random.choices(staff_df.staff_id.values, weights=staff_df.current_salary.values)\n",
    "        staff_id.append(*employee)\n",
    "        staff_gender.append(*staff_df['gender'].loc[staff_df.staff_id == employee[0]].values)\n",
    "        update.append(Faker().date_time_between_dates(pd.to_datetime(staff_df.from_date.loc[staff_df.staff_id == employee[0]].values[0]), today))\n",
    "    df = pd.DataFrame({\n",
    "        'staff_id': staff_id,\n",
    "        'staff_gender': staff_gender,\n",
    "        'dates_number': [int(np.round(norm.rvs(scale=2, loc=5, size=1),1)) for i in range(n)],\n",
    "        'updated_at': update\n",
    "    })\n",
    "    df.sort_values(by=['updated_at'], inplace=True)\n",
    "    df['relationship_id'] = [*range(1, n+1)]\n",
    "    df['partner_id'] = [*range(1, n+1)]\n",
    "    df = df.reindex(labels=['relationship_id', 'staff_id','staff_gender', 'partner_id', 'dates_number', 'updated_at'], axis=1)\n",
    "    return df"
   ]
  },
  {
   "cell_type": "code",
   "execution_count": 30,
   "id": "e8a989c4",
   "metadata": {},
   "outputs": [
    {
     "data": {
      "text/html": [
       "<div>\n",
       "<style scoped>\n",
       "    .dataframe tbody tr th:only-of-type {\n",
       "        vertical-align: middle;\n",
       "    }\n",
       "\n",
       "    .dataframe tbody tr th {\n",
       "        vertical-align: top;\n",
       "    }\n",
       "\n",
       "    .dataframe thead th {\n",
       "        text-align: right;\n",
       "    }\n",
       "</style>\n",
       "<table border=\"1\" class=\"dataframe\">\n",
       "  <thead>\n",
       "    <tr style=\"text-align: right;\">\n",
       "      <th></th>\n",
       "      <th>relationship_id</th>\n",
       "      <th>staff_id</th>\n",
       "      <th>staff_gender</th>\n",
       "      <th>partner_id</th>\n",
       "      <th>dates_number</th>\n",
       "      <th>updated_at</th>\n",
       "    </tr>\n",
       "  </thead>\n",
       "  <tbody>\n",
       "    <tr>\n",
       "      <th>0</th>\n",
       "      <td>1</td>\n",
       "      <td>4</td>\n",
       "      <td>F</td>\n",
       "      <td>1</td>\n",
       "      <td>3</td>\n",
       "      <td>2021-08-30 19:28:43</td>\n",
       "    </tr>\n",
       "    <tr>\n",
       "      <th>4</th>\n",
       "      <td>2</td>\n",
       "      <td>1</td>\n",
       "      <td>F</td>\n",
       "      <td>2</td>\n",
       "      <td>6</td>\n",
       "      <td>2021-09-12 06:32:06</td>\n",
       "    </tr>\n",
       "    <tr>\n",
       "      <th>2</th>\n",
       "      <td>3</td>\n",
       "      <td>4</td>\n",
       "      <td>F</td>\n",
       "      <td>3</td>\n",
       "      <td>4</td>\n",
       "      <td>2021-09-28 20:59:41</td>\n",
       "    </tr>\n",
       "    <tr>\n",
       "      <th>7</th>\n",
       "      <td>4</td>\n",
       "      <td>2</td>\n",
       "      <td>M</td>\n",
       "      <td>4</td>\n",
       "      <td>3</td>\n",
       "      <td>2021-12-25 07:44:29</td>\n",
       "    </tr>\n",
       "    <tr>\n",
       "      <th>8</th>\n",
       "      <td>5</td>\n",
       "      <td>2</td>\n",
       "      <td>M</td>\n",
       "      <td>5</td>\n",
       "      <td>7</td>\n",
       "      <td>2022-06-15 18:07:11</td>\n",
       "    </tr>\n",
       "    <tr>\n",
       "      <th>5</th>\n",
       "      <td>6</td>\n",
       "      <td>1</td>\n",
       "      <td>F</td>\n",
       "      <td>6</td>\n",
       "      <td>6</td>\n",
       "      <td>2022-08-29 21:09:54</td>\n",
       "    </tr>\n",
       "    <tr>\n",
       "      <th>3</th>\n",
       "      <td>7</td>\n",
       "      <td>1</td>\n",
       "      <td>F</td>\n",
       "      <td>7</td>\n",
       "      <td>7</td>\n",
       "      <td>2023-01-23 05:57:11</td>\n",
       "    </tr>\n",
       "    <tr>\n",
       "      <th>1</th>\n",
       "      <td>8</td>\n",
       "      <td>6</td>\n",
       "      <td>F</td>\n",
       "      <td>8</td>\n",
       "      <td>5</td>\n",
       "      <td>2023-01-29 08:26:01</td>\n",
       "    </tr>\n",
       "    <tr>\n",
       "      <th>6</th>\n",
       "      <td>9</td>\n",
       "      <td>6</td>\n",
       "      <td>F</td>\n",
       "      <td>9</td>\n",
       "      <td>5</td>\n",
       "      <td>2023-05-17 20:21:31</td>\n",
       "    </tr>\n",
       "  </tbody>\n",
       "</table>\n",
       "</div>"
      ],
      "text/plain": [
       "   relationship_id  staff_id staff_gender  partner_id  dates_number  \\\n",
       "0                1         4            F           1             3   \n",
       "4                2         1            F           2             6   \n",
       "2                3         4            F           3             4   \n",
       "7                4         2            M           4             3   \n",
       "8                5         2            M           5             7   \n",
       "5                6         1            F           6             6   \n",
       "3                7         1            F           7             7   \n",
       "1                8         6            F           8             5   \n",
       "6                9         6            F           9             5   \n",
       "\n",
       "           updated_at  \n",
       "0 2021-08-30 19:28:43  \n",
       "4 2021-09-12 06:32:06  \n",
       "2 2021-09-28 20:59:41  \n",
       "7 2021-12-25 07:44:29  \n",
       "8 2022-06-15 18:07:11  \n",
       "5 2022-08-29 21:09:54  \n",
       "3 2023-01-23 05:57:11  \n",
       "1 2023-01-29 08:26:01  \n",
       "6 2023-05-17 20:21:31  "
      ]
     },
     "execution_count": 30,
     "metadata": {},
     "output_type": "execute_result"
    }
   ],
   "source": [
    "relationships = realtionships_df_generator(staff)\n",
    "relationships"
   ]
  },
  {
   "attachments": {},
   "cell_type": "markdown",
   "id": "fc745bc3",
   "metadata": {},
   "source": [
    "## Partnerzy"
   ]
  },
  {
   "cell_type": "code",
   "execution_count": 31,
   "id": "5c9be2c6",
   "metadata": {},
   "outputs": [],
   "source": [
    "def partners_df_generator(relationships_df):\n",
    "    n = relationships_df.shape[0]\n",
    "    partner = relationships_df.partner_id\n",
    "    staff_gender = relationships_df.staff_gender.values\n",
    "    gender = []\n",
    "    for el in staff_gender:\n",
    "        if el == 'M':\n",
    "            gender.append(random.choices(['M', 'F'], weights=[0.1, 0.9])[0])\n",
    "        elif el == 'F':\n",
    "            gender.append(random.choices(['M', 'F'], weights=[0.9, 0.1])[0])\n",
    "\n",
    "    partners = pd.DataFrame({\n",
    "        'partner_id': partner,\n",
    "        'gender': gender,\n",
    "        'updated_at': relationships_df.updated_at\n",
    "    })\n",
    "    partners['name'] = first_name_generator(partners)\n",
    "    partners.sort_values(by=['updated_at'], inplace=True)\n",
    "    partners = partners.reindex(labels=['partner_id', 'name', 'gender', 'updated_at'], axis=1)\n",
    "    return partners"
   ]
  },
  {
   "cell_type": "code",
   "execution_count": 32,
   "id": "52884a51",
   "metadata": {},
   "outputs": [
    {
     "data": {
      "text/html": [
       "<div>\n",
       "<style scoped>\n",
       "    .dataframe tbody tr th:only-of-type {\n",
       "        vertical-align: middle;\n",
       "    }\n",
       "\n",
       "    .dataframe tbody tr th {\n",
       "        vertical-align: top;\n",
       "    }\n",
       "\n",
       "    .dataframe thead th {\n",
       "        text-align: right;\n",
       "    }\n",
       "</style>\n",
       "<table border=\"1\" class=\"dataframe\">\n",
       "  <thead>\n",
       "    <tr style=\"text-align: right;\">\n",
       "      <th></th>\n",
       "      <th>partner_id</th>\n",
       "      <th>name</th>\n",
       "      <th>gender</th>\n",
       "      <th>updated_at</th>\n",
       "    </tr>\n",
       "  </thead>\n",
       "  <tbody>\n",
       "    <tr>\n",
       "      <th>0</th>\n",
       "      <td>1</td>\n",
       "      <td>PIOTR</td>\n",
       "      <td>M</td>\n",
       "      <td>2021-08-30 19:28:43</td>\n",
       "    </tr>\n",
       "    <tr>\n",
       "      <th>4</th>\n",
       "      <td>2</td>\n",
       "      <td>NIKITA</td>\n",
       "      <td>M</td>\n",
       "      <td>2021-09-12 06:32:06</td>\n",
       "    </tr>\n",
       "    <tr>\n",
       "      <th>2</th>\n",
       "      <td>3</td>\n",
       "      <td>JACEK</td>\n",
       "      <td>M</td>\n",
       "      <td>2021-09-28 20:59:41</td>\n",
       "    </tr>\n",
       "    <tr>\n",
       "      <th>7</th>\n",
       "      <td>4</td>\n",
       "      <td>ELŻBIETA</td>\n",
       "      <td>F</td>\n",
       "      <td>2021-12-25 07:44:29</td>\n",
       "    </tr>\n",
       "    <tr>\n",
       "      <th>8</th>\n",
       "      <td>5</td>\n",
       "      <td>KRISTINA</td>\n",
       "      <td>F</td>\n",
       "      <td>2022-06-15 18:07:11</td>\n",
       "    </tr>\n",
       "    <tr>\n",
       "      <th>5</th>\n",
       "      <td>6</td>\n",
       "      <td>ALEXANDER</td>\n",
       "      <td>M</td>\n",
       "      <td>2022-08-29 21:09:54</td>\n",
       "    </tr>\n",
       "    <tr>\n",
       "      <th>3</th>\n",
       "      <td>7</td>\n",
       "      <td>MICHAŁ</td>\n",
       "      <td>M</td>\n",
       "      <td>2023-01-23 05:57:11</td>\n",
       "    </tr>\n",
       "    <tr>\n",
       "      <th>1</th>\n",
       "      <td>8</td>\n",
       "      <td>MARCIN</td>\n",
       "      <td>M</td>\n",
       "      <td>2023-01-29 08:26:01</td>\n",
       "    </tr>\n",
       "    <tr>\n",
       "      <th>6</th>\n",
       "      <td>9</td>\n",
       "      <td>HENRYK</td>\n",
       "      <td>M</td>\n",
       "      <td>2023-05-17 20:21:31</td>\n",
       "    </tr>\n",
       "  </tbody>\n",
       "</table>\n",
       "</div>"
      ],
      "text/plain": [
       "   partner_id       name gender          updated_at\n",
       "0           1      PIOTR      M 2021-08-30 19:28:43\n",
       "4           2     NIKITA      M 2021-09-12 06:32:06\n",
       "2           3      JACEK      M 2021-09-28 20:59:41\n",
       "7           4   ELŻBIETA      F 2021-12-25 07:44:29\n",
       "8           5   KRISTINA      F 2022-06-15 18:07:11\n",
       "5           6  ALEXANDER      M 2022-08-29 21:09:54\n",
       "3           7     MICHAŁ      M 2023-01-23 05:57:11\n",
       "1           8     MARCIN      M 2023-01-29 08:26:01\n",
       "6           9     HENRYK      M 2023-05-17 20:21:31"
      ]
     },
     "execution_count": 32,
     "metadata": {},
     "output_type": "execute_result"
    }
   ],
   "source": [
    "partners = partners_df_generator(relationships)\n",
    "partners"
   ]
  },
  {
   "attachments": {},
   "cell_type": "markdown",
   "id": "f7481852",
   "metadata": {},
   "source": [
    "## Klienci - część A"
   ]
  },
  {
   "cell_type": "code",
   "execution_count": 33,
   "id": "ad50177a",
   "metadata": {},
   "outputs": [],
   "source": [
    "customers = pd.DataFrame({'customer_id': [i for i in range(1,1501)]})"
   ]
  },
  {
   "attachments": {},
   "cell_type": "markdown",
   "id": "2af0ce04",
   "metadata": {},
   "source": [
    "## Koszty utrzymania"
   ]
  },
  {
   "attachments": {},
   "cell_type": "markdown",
   "id": "48a31eaf",
   "metadata": {},
   "source": [
    "## Tytuły wydatków"
   ]
  },
  {
   "attachments": {},
   "cell_type": "markdown",
   "id": "48998a65",
   "metadata": {},
   "source": [
    "## Typy wydatków"
   ]
  },
  {
   "attachments": {},
   "cell_type": "markdown",
   "id": "4585b22d",
   "metadata": {},
   "source": [
    "## Wydatki i tytuły jeszcze raz"
   ]
  },
  {
   "attachments": {},
   "cell_type": "markdown",
   "id": "cfd4fb44",
   "metadata": {},
   "source": [
    "## Turnieje"
   ]
  },
  {
   "attachments": {},
   "cell_type": "markdown",
   "id": "4aa7e152",
   "metadata": {},
   "source": [
    "## Udziały"
   ]
  },
  {
   "attachments": {},
   "cell_type": "markdown",
   "id": "6404d0a7",
   "metadata": {},
   "source": [
    "## Magazyn"
   ]
  },
  {
   "attachments": {},
   "cell_type": "markdown",
   "id": "9eeef585",
   "metadata": {},
   "source": [
    "## Ceny gier"
   ]
  },
  {
   "attachments": {},
   "cell_type": "markdown",
   "id": "966cee6b",
   "metadata": {},
   "source": [
    "## Sprzedaże"
   ]
  },
  {
   "attachments": {},
   "cell_type": "markdown",
   "id": "562b928d",
   "metadata": {},
   "source": [
    "## Rentale"
   ]
  },
  {
   "attachments": {},
   "cell_type": "markdown",
   "id": "24aebfa4",
   "metadata": {},
   "source": [
    "## Gry"
   ]
  },
  {
   "attachments": {},
   "cell_type": "markdown",
   "id": "896654be",
   "metadata": {},
   "source": [
    "## Katrgorie gier i typy gier"
   ]
  },
  {
   "attachments": {},
   "cell_type": "markdown",
   "id": "d3988e0c",
   "metadata": {},
   "source": [
    "## Klienci - część B"
   ]
  },
  {
   "attachments": {},
   "cell_type": "markdown",
   "id": "ea6b8c85",
   "metadata": {},
   "source": [
    "## Miasta"
   ]
  },
  {
   "attachments": {},
   "cell_type": "markdown",
   "id": "4b43b28a",
   "metadata": {},
   "source": [
    "## Payments i invoices"
   ]
  },
  {
   "attachments": {},
   "cell_type": "markdown",
   "id": "5df385e8",
   "metadata": {},
   "source": [
    "------\n",
    "\n",
    "# Faza 3 - ostateczne tabele"
   ]
  },
  {
   "cell_type": "code",
   "execution_count": null,
   "id": "472ebaff",
   "metadata": {},
   "outputs": [],
   "source": []
  }
 ],
 "metadata": {
  "kernelspec": {
   "display_name": "Python 3 (ipykernel)",
   "language": "python",
   "name": "python3"
  },
  "language_info": {
   "codemirror_mode": {
    "name": "ipython",
    "version": 3
   },
   "file_extension": ".py",
   "mimetype": "text/x-python",
   "name": "python",
   "nbconvert_exporter": "python",
   "pygments_lexer": "ipython3",
   "version": "3.9.0"
  }
 },
 "nbformat": 4,
 "nbformat_minor": 5
}
